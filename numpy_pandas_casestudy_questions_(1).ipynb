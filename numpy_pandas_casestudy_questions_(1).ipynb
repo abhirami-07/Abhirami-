{
  "cells": [
    {
      "cell_type": "markdown",
      "metadata": {
        "id": "view-in-github",
        "colab_type": "text"
      },
      "source": [
        "<a href=\"https://colab.research.google.com/github/abhirami-07/Abhirami-/blob/main/numpy_pandas_casestudy_questions_(1).ipynb\" target=\"_parent\"><img src=\"https://colab.research.google.com/assets/colab-badge.svg\" alt=\"Open In Colab\"/></a>"
      ]
    },
    {
      "cell_type": "markdown",
      "metadata": {
        "id": "a4Mw1zRIf0IU"
      },
      "source": [
        "# 📚 **NumPy, Pandas, Matplotlib, and Seaborn Practice Questions**\n",
        "---\n",
        "This notebook contains four sets of practice questions covering NumPy, Pandas, Matplotlib, and Seaborn. Complete the tasks below and run the respective cells."
      ],
      "id": "a4Mw1zRIf0IU"
    },
    {
      "cell_type": "markdown",
      "metadata": {
        "id": "ygDo4JCUf0IY"
      },
      "source": [
        "## 🧠 **Question 1: NumPy Array Manipulation**\n",
        "1. Create a 1D NumPy array with integers from **1 to 24**.  \n",
        "2. Reshape the array into a **4x6 matrix**.  \n",
        "3. Extract the **third row** and **second column** from the reshaped array.  \n",
        "4. Transpose the matrix and display the result."
      ],
      "id": "ygDo4JCUf0IY"
    },
    {
      "cell_type": "code",
      "metadata": {
        "colab": {
          "base_uri": "https://localhost:8080/"
        },
        "id": "UOvapnk2f0IZ",
        "outputId": "471d8010-cec9-493e-b2b2-a0bf8baecbdc"
      },
      "source": [
        "# Solution for Question 1\n",
        "import numpy as np\n",
        "\n",
        "# Your code here\n",
        "arr=np.arange(1,25)\n",
        "print(\"Array:\")\n",
        "print(arr)\n",
        "\n",
        "matrix=arr.reshape(4,6)\n",
        "print(\"Matrix:\")\n",
        "print(matrix)\n",
        "\n",
        "third_row=matrix[2,:]\n",
        "second_column=matrix[:,1]\n",
        "print(\"Third row:\")\n",
        "print(third_row)\n",
        "print(\"Second column:\")\n",
        "print(second_column)\n",
        "\n",
        "transpose=matrix.transpose()\n",
        "print(\"Transpose matrix:\")\n",
        "print(transpose)"
      ],
      "outputs": [
        {
          "output_type": "stream",
          "name": "stdout",
          "text": [
            "Array:\n",
            "[ 1  2  3  4  5  6  7  8  9 10 11 12 13 14 15 16 17 18 19 20 21 22 23 24]\n",
            "Matrix:\n",
            "[[ 1  2  3  4  5  6]\n",
            " [ 7  8  9 10 11 12]\n",
            " [13 14 15 16 17 18]\n",
            " [19 20 21 22 23 24]]\n",
            "Third row:\n",
            "[13 14 15 16 17 18]\n",
            "Second column:\n",
            "[ 2  8 14 20]\n",
            "Transpose matrix:\n",
            "[[ 1  7 13 19]\n",
            " [ 2  8 14 20]\n",
            " [ 3  9 15 21]\n",
            " [ 4 10 16 22]\n",
            " [ 5 11 17 23]\n",
            " [ 6 12 18 24]]\n"
          ]
        }
      ],
      "id": "UOvapnk2f0IZ",
      "execution_count": null
    },
    {
      "cell_type": "markdown",
      "metadata": {
        "id": "soD-Wt4Qf0Ib"
      },
      "source": [
        "## 🧠 **Question 2: Array Element Extraction**\n",
        "1. Create a **5x5 NumPy array** with random integers between **10 and 100**.  \n",
        "2. Extract all the **even numbers** from the array.  \n",
        "3. Replace all numbers **greater than 50** with **0**.  \n",
        "4. Extract the diagonal elements of the array."
      ],
      "id": "soD-Wt4Qf0Ib"
    },
    {
      "cell_type": "code",
      "metadata": {
        "colab": {
          "base_uri": "https://localhost:8080/"
        },
        "id": "SC3qytpCf0Ib",
        "outputId": "dc593825-13b4-46ce-b278-898ba67749f4"
      },
      "source": [
        "# Solution for Question 2\n",
        "import numpy as np\n",
        "\n",
        "# Your code here\n",
        "arr=np.random.randint(10,101,size=(5,5))\n",
        "print(\"Array:\")\n",
        "print(arr)\n",
        "\n",
        "even=arr[arr%2==0]\n",
        "print(\"Even numbers:\")\n",
        "print(even)\n",
        "\n",
        "arr[arr>50]=0\n",
        "print(\"Modified Arrary:\")\n",
        "print(arr)\n",
        "\n",
        "diagonal=np.diag(arr)\n",
        "print(\"Diagonal elements:\")\n",
        "print(diagonal)"
      ],
      "outputs": [
        {
          "output_type": "stream",
          "name": "stdout",
          "text": [
            "Array:\n",
            "[[ 91  17 100  97  79]\n",
            " [ 29  13  64  59  93]\n",
            " [ 90  67  84  37 100]\n",
            " [ 99  81  73  28  44]\n",
            " [ 10  73  19  59  30]]\n",
            "Even numbers:\n",
            "[100  64  90  84 100  28  44  10  30]\n",
            "Modified Arrary:\n",
            "[[ 0 17  0  0  0]\n",
            " [29 13  0  0  0]\n",
            " [ 0  0  0 37  0]\n",
            " [ 0  0  0 28 44]\n",
            " [10  0 19  0 30]]\n",
            "Diagonal elements:\n",
            "[ 0 13  0 28 30]\n"
          ]
        }
      ],
      "id": "SC3qytpCf0Ib",
      "execution_count": null
    },
    {
      "cell_type": "markdown",
      "metadata": {
        "id": "KYFJiUgdf0Ic"
      },
      "source": [
        "## 🧠 **Question 3: DataFrame Creation and Operations (Pandas)**\n",
        "1. Create a Pandas DataFrame containing the following data:\n",
        "\n",
        "| Student_ID | Name   | Subject | Marks |\n",
        "|------------|--------|---------|-------|\n",
        "| 1          | Alice  | Math    | 88    |\n",
        "| 2          | Bob    | Science | 75    |\n",
        "| 3          | Carol  | History | 92    |\n",
        "| 4          | David  | Math    | 85    |\n",
        "| 5          | Eva    | Science | 90    |\n",
        "\n",
        "2. Find the **average marks** for each subject.  \n",
        "3. Add a new column named **Grade** based on the marks:\n",
        "- Marks ≥ 90 → A\n",
        "- Marks ≥ 80 → B\n",
        "- Marks ≥ 70 → C\n",
        "- Else → D"
      ],
      "id": "KYFJiUgdf0Ic"
    },
    {
      "cell_type": "code",
      "metadata": {
        "id": "a11_aCQPf0Ic",
        "colab": {
          "base_uri": "https://localhost:8080/"
        },
        "outputId": "1b78bb0b-c3b9-4fda-e05e-f5957a135c17"
      },
      "source": [
        "# Solution for Question 3\n",
        "import pandas as pd\n",
        "\n",
        "# Your code here\n",
        "data={\n",
        "    'Student_id':[1,2,3,4,5],\n",
        "    'Name':['Alice','Bob','Carol','David','Eva'],\n",
        "    'Subject':['Math','Science','History','Math','Science'],\n",
        "    'Marks':[88,75,92,85,90]\n",
        "}\n",
        "df=pd.DataFrame(data)\n",
        "print(\"Student Details:\")\n",
        "print(df)\n",
        "\n",
        "average=df.groupby(\"Subject\")[\"Marks\"].mean()\n",
        "print(\"Average of marks:\")\n",
        "print(average)\n",
        "\n",
        "df['Grade']=pd.cut(df['Marks'],bins=[0,70,80,90,100],\n",
        "                   labels=['D','C','B','A'],include_lowest=True)\n",
        "print(df)"
      ],
      "outputs": [
        {
          "output_type": "stream",
          "name": "stdout",
          "text": [
            "Student Details:\n",
            "   Student_id   Name  Subject  Marks\n",
            "0           1  Alice     Math     88\n",
            "1           2    Bob  Science     75\n",
            "2           3  Carol  History     92\n",
            "3           4  David     Math     85\n",
            "4           5    Eva  Science     90\n",
            "Average of marks:\n",
            "Subject\n",
            "History    92.0\n",
            "Math       86.5\n",
            "Science    82.5\n",
            "Name: Marks, dtype: float64\n",
            "   Student_id   Name  Subject  Marks Grade\n",
            "0           1  Alice     Math     88     B\n",
            "1           2    Bob  Science     75     C\n",
            "2           3  Carol  History     92     A\n",
            "3           4  David     Math     85     B\n",
            "4           5    Eva  Science     90     B\n"
          ]
        }
      ],
      "id": "a11_aCQPf0Ic",
      "execution_count": null
    },
    {
      "cell_type": "markdown",
      "metadata": {
        "id": "REXw2v13f0Id"
      },
      "source": [
        "## 🧠 **Question 4: Dataset Analysis (Pandas, Matplotlib, Seaborn)**\n",
        "Use the dataset `diabetes.csv` and perform the following tasks:\n",
        "\n",
        "1. Display the **BMI** and **Blood Pressure** for samples with **index ranging from 20 to 40**.  \n",
        "2. Find how many patients have **BMI > 30**.  \n",
        "3. Find the **mean and standard deviation** of the **Glucose** levels.  \n",
        "4. Plot a **boxplot** for the column **Insulin**.  \n",
        "5. Create a **heatmap** showing the correlation between the numerical columns in the dataset."
      ],
      "id": "REXw2v13f0Id"
    },
    {
      "cell_type": "code",
      "metadata": {
        "id": "6CqI8eNKf0Id",
        "colab": {
          "base_uri": "https://localhost:8080/",
          "height": 1000
        },
        "outputId": "e4b06827-ac36-4818-9ee1-771d127985aa"
      },
      "source": [
        "# Solution for Question 4\n",
        "import pandas as pd\n",
        "import matplotlib.pyplot as plt\n",
        "import seaborn as sns\n",
        "\n",
        "# Your code here\n",
        "data={\n",
        "    'Index':range(50),\n",
        "    'BMI':[20+i/3 for i in range(50)],\n",
        "    'Blood Pressure':[100+i/2 for i in range(50)]\n",
        "}\n",
        "df=pd.DataFrame(data)\n",
        "print(df.loc[df['Index'].between(20,40),['BMI','Blood Pressure']])\n",
        "\n",
        "num_patients=len(df[(df['BMI']>30)&(df['Index'].between(20,40))])\n",
        "print(f\"Number of patients with BMI greater than 30:{num_patients}\")\n",
        "glu={\n",
        "    'Index':range(50),\n",
        "    'Glucose':[80+i/2 for i in range(50)]\n",
        "}\n",
        "dm=pd.DataFrame(glu)\n",
        "mean=dm['Glucose'].mean()\n",
        "std=dm['Glucose'].std()\n",
        "print(f\"Mean glucose level:{mean}\")\n",
        "print(f\"Standard deviation of glucose levels:{std}\")\n",
        "\n",
        "ins={\n",
        "    'Insulin':[10+i/2 for i in range(50)]\n",
        "}\n",
        "dr=pd.DataFrame(ins)\n",
        "plt.figure(figsize=(8,6))\n",
        "plt.boxplot(dr['Insulin'],vert=False)\n",
        "plt.title('Boxplot of Insulin Levels')\n",
        "plt.show()\n",
        "\n",
        "numeric=df.select_dtypes(include=['int64','float64']).columns\n",
        "corr=df[numeric_cols].corr()\n",
        "plt.figure(figsize=(8,6))\n",
        "sns.heatmap(corr,annot=True,camp='coolwarm',square=True)\n",
        "plt.title('Correlation Heatmap')\n",
        "plt.show()"
      ],
      "outputs": [
        {
          "output_type": "stream",
          "name": "stdout",
          "text": [
            "          BMI  Blood Pressure\n",
            "20  26.666667           110.0\n",
            "21  27.000000           110.5\n",
            "22  27.333333           111.0\n",
            "23  27.666667           111.5\n",
            "24  28.000000           112.0\n",
            "25  28.333333           112.5\n",
            "26  28.666667           113.0\n",
            "27  29.000000           113.5\n",
            "28  29.333333           114.0\n",
            "29  29.666667           114.5\n",
            "30  30.000000           115.0\n",
            "31  30.333333           115.5\n",
            "32  30.666667           116.0\n",
            "33  31.000000           116.5\n",
            "34  31.333333           117.0\n",
            "35  31.666667           117.5\n",
            "36  32.000000           118.0\n",
            "37  32.333333           118.5\n",
            "38  32.666667           119.0\n",
            "39  33.000000           119.5\n",
            "40  33.333333           120.0\n",
            "Number of patients with BMI greater than 30:10\n",
            "Mean glucose level:92.25\n",
            "Standard deviation of glucose levels:7.2886898685566255\n"
          ]
        },
        {
          "output_type": "display_data",
          "data": {
            "text/plain": [
              "<Figure size 800x600 with 1 Axes>"
            ],
            "image/png": "[encoded data removed]"
          },
          "metadata": {}
        },
        {
          "output_type": "error",
          "ename": "NameError",
          "evalue": "name 'numeric_cols' is not defined",
          "traceback": [
            "\u001b[0;31m---------------------------------------------------------------------------\u001b[0m",
            "\u001b[0;31mNameError\u001b[0m                                 Traceback (most recent call last)",
            "\u001b[0;32m<ipython-input-4-a51fda383cfc>\u001b[0m in \u001b[0;36m<cell line: 0>\u001b[0;34m()\u001b[0m\n\u001b[1;32m     35\u001b[0m \u001b[0;34m\u001b[0m\u001b[0m\n\u001b[1;32m     36\u001b[0m \u001b[0mnumeric\u001b[0m\u001b[0;34m=\u001b[0m\u001b[0mdf\u001b[0m\u001b[0;34m.\u001b[0m\u001b[0mselect_dtypes\u001b[0m\u001b[0;34m(\u001b[0m\u001b[0minclude\u001b[0m\u001b[0;34m=\u001b[0m\u001b[0;34m[\u001b[0m\u001b[0;34m'int64'\u001b[0m\u001b[0;34m,\u001b[0m\u001b[0;34m'float64'\u001b[0m\u001b[0;34m]\u001b[0m\u001b[0;34m)\u001b[0m\u001b[0;34m.\u001b[0m\u001b[0mcolumns\u001b[0m\u001b[0;34m\u001b[0m\u001b[0;34m\u001b[0m\u001b[0m\n\u001b[0;32m---> 37\u001b[0;31m \u001b[0mcorr\u001b[0m\u001b[0;34m=\u001b[0m\u001b[0mdf\u001b[0m\u001b[0;34m[\u001b[0m\u001b[0mnumeric_cols\u001b[0m\u001b[0;34m]\u001b[0m\u001b[0;34m.\u001b[0m\u001b[0mcorr\u001b[0m\u001b[0;34m(\u001b[0m\u001b[0;34m)\u001b[0m\u001b[0;34m\u001b[0m\u001b[0;34m\u001b[0m\u001b[0m\n\u001b[0m\u001b[1;32m     38\u001b[0m \u001b[0mplt\u001b[0m\u001b[0;34m.\u001b[0m\u001b[0mfigure\u001b[0m\u001b[0;34m(\u001b[0m\u001b[0mfigsize\u001b[0m\u001b[0;34m=\u001b[0m\u001b[0;34m(\u001b[0m\u001b[0;36m8\u001b[0m\u001b[0;34m,\u001b[0m\u001b[0;36m6\u001b[0m\u001b[0;34m)\u001b[0m\u001b[0;34m)\u001b[0m\u001b[0;34m\u001b[0m\u001b[0;34m\u001b[0m\u001b[0m\n\u001b[1;32m     39\u001b[0m \u001b[0msns\u001b[0m\u001b[0;34m.\u001b[0m\u001b[0mheatmap\u001b[0m\u001b[0;34m(\u001b[0m\u001b[0mcorr\u001b[0m\u001b[0;34m,\u001b[0m\u001b[0mannot\u001b[0m\u001b[0;34m=\u001b[0m\u001b[0;32mTrue\u001b[0m\u001b[0;34m,\u001b[0m\u001b[0mcamp\u001b[0m\u001b[0;34m=\u001b[0m\u001b[0;34m'coolwarm'\u001b[0m\u001b[0;34m,\u001b[0m\u001b[0msquare\u001b[0m\u001b[0;34m=\u001b[0m\u001b[0;32mTrue\u001b[0m\u001b[0;34m)\u001b[0m\u001b[0;34m\u001b[0m\u001b[0;34m\u001b[0m\u001b[0m\n",
            "\u001b[0;31mNameError\u001b[0m: name 'numeric_cols' is not defined"
          ]
        }
      ],
      "id": "6CqI8eNKf0Id",
      "execution_count": 4
    }
  ],
  "metadata": {
    "kernelspec": {
      "display_name": "Python 3",
      "language": "python",
      "name": "python3"
    },
    "language_info": {
      "name": "python",
      "version": "3.x"
    },
    "colab": {
      "provenance": [],
      "include_colab_link": true
    }
  },
  "nbformat": 4,
  "nbformat_minor": 5
}